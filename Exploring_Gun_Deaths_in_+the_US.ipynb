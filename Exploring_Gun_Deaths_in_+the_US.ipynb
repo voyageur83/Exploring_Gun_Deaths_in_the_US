{
 "cells": [
  {
   "cell_type": "code",
   "execution_count": 101,
   "metadata": {
    "collapsed": false
   },
   "outputs": [
    {
     "name": "stdout",
     "output_type": "stream",
     "text": [
      "[['', 'year', 'month', 'intent', 'police', 'sex', 'age', 'race', 'hispanic', 'place', 'education'], ['1', '2012', '01', 'Suicide', '0', 'M', '34', 'Asian/Pacific Islander', '100', 'Home', '4'], ['2', '2012', '01', 'Suicide', '0', 'F', '21', 'White', '100', 'Street', '3'], ['3', '2012', '01', 'Suicide', '0', 'M', '60', 'White', '100', 'Other specified', '4'], ['4', '2012', '02', 'Suicide', '0', 'M', '64', 'White', '100', 'Home', '4']]\n"
     ]
    }
   ],
   "source": [
    "import csv\n",
    "f = open('guns.csv')\n",
    "csvreader = csv.reader(f)\n",
    "data = list(csvreader)\n",
    "print(data[0:5])"
   ]
  },
  {
   "cell_type": "code",
   "execution_count": 102,
   "metadata": {
    "collapsed": false
   },
   "outputs": [],
   "source": [
    "headers = data[0:1]"
   ]
  },
  {
   "cell_type": "code",
   "execution_count": 103,
   "metadata": {
    "collapsed": false
   },
   "outputs": [],
   "source": [
    "data = data[1:]"
   ]
  },
  {
   "cell_type": "code",
   "execution_count": 104,
   "metadata": {
    "collapsed": false
   },
   "outputs": [
    {
     "name": "stdout",
     "output_type": "stream",
     "text": [
      "[['', 'year', 'month', 'intent', 'police', 'sex', 'age', 'race', 'hispanic', 'place', 'education']]\n",
      "[['1', '2012', '01', 'Suicide', '0', 'M', '34', 'Asian/Pacific Islander', '100', 'Home', '4'], ['2', '2012', '01', 'Suicide', '0', 'F', '21', 'White', '100', 'Street', '3'], ['3', '2012', '01', 'Suicide', '0', 'M', '60', 'White', '100', 'Other specified', '4'], ['4', '2012', '02', 'Suicide', '0', 'M', '64', 'White', '100', 'Home', '4'], ['5', '2012', '02', 'Suicide', '0', 'M', '31', 'White', '100', 'Other specified', '2']]\n"
     ]
    }
   ],
   "source": [
    "print(headers)\n",
    "print(data[0:5])"
   ]
  },
  {
   "cell_type": "code",
   "execution_count": 105,
   "metadata": {
    "collapsed": false
   },
   "outputs": [],
   "source": [
    "years = [row[1] for row in data]"
   ]
  },
  {
   "cell_type": "code",
   "execution_count": 106,
   "metadata": {
    "collapsed": false
   },
   "outputs": [
    {
     "name": "stdout",
     "output_type": "stream",
     "text": [
      "{'2014': 33599, '2013': 33636, '2012': 33563}\n"
     ]
    }
   ],
   "source": [
    "year_counts = {}\n",
    "for year in years:\n",
    "    if year in year_counts:\n",
    "        year_counts[year] += 1\n",
    "    else:\n",
    "        year_counts[year] = 1\n",
    "print(year_counts)"
   ]
  },
  {
   "cell_type": "code",
   "execution_count": 107,
   "metadata": {
    "collapsed": false,
    "scrolled": true
   },
   "outputs": [
    {
     "data": {
      "text/plain": [
       "[datetime.datetime(2012, 1, 1, 0, 0),\n",
       " datetime.datetime(2012, 1, 1, 0, 0),\n",
       " datetime.datetime(2012, 1, 1, 0, 0),\n",
       " datetime.datetime(2012, 2, 1, 0, 0),\n",
       " datetime.datetime(2012, 2, 1, 0, 0)]"
      ]
     },
     "execution_count": 107,
     "metadata": {},
     "output_type": "execute_result"
    }
   ],
   "source": [
    "import datetime\n",
    "dates = [datetime.datetime(year = int(row[1]), month = int(row[2]), day = 1) for row in data]\n",
    "dates[:5]"
   ]
  },
  {
   "cell_type": "code",
   "execution_count": 108,
   "metadata": {
    "collapsed": false
   },
   "outputs": [
    {
     "name": "stdout",
     "output_type": "stream",
     "text": [
      "{datetime.datetime(2012, 11, 1, 0, 0): 2729, datetime.datetime(2012, 1, 1, 0, 0): 2758, datetime.datetime(2014, 9, 1, 0, 0): 2914, datetime.datetime(2014, 3, 1, 0, 0): 2684, datetime.datetime(2014, 11, 1, 0, 0): 2756, datetime.datetime(2012, 2, 1, 0, 0): 2357, datetime.datetime(2014, 5, 1, 0, 0): 2864, datetime.datetime(2014, 1, 1, 0, 0): 2651, datetime.datetime(2012, 8, 1, 0, 0): 2954, datetime.datetime(2013, 4, 1, 0, 0): 2798, datetime.datetime(2013, 1, 1, 0, 0): 2864, datetime.datetime(2014, 10, 1, 0, 0): 2865, datetime.datetime(2013, 6, 1, 0, 0): 2920, datetime.datetime(2014, 4, 1, 0, 0): 2862, datetime.datetime(2013, 12, 1, 0, 0): 2765, datetime.datetime(2012, 5, 1, 0, 0): 2999, datetime.datetime(2014, 8, 1, 0, 0): 2970, datetime.datetime(2012, 10, 1, 0, 0): 2733, datetime.datetime(2014, 7, 1, 0, 0): 2884, datetime.datetime(2014, 12, 1, 0, 0): 2857, datetime.datetime(2012, 6, 1, 0, 0): 2826, datetime.datetime(2012, 9, 1, 0, 0): 2852, datetime.datetime(2012, 3, 1, 0, 0): 2743, datetime.datetime(2013, 5, 1, 0, 0): 2806, datetime.datetime(2013, 10, 1, 0, 0): 2808, datetime.datetime(2013, 7, 1, 0, 0): 3079, datetime.datetime(2013, 9, 1, 0, 0): 2742, datetime.datetime(2013, 11, 1, 0, 0): 2758, datetime.datetime(2012, 12, 1, 0, 0): 2791, datetime.datetime(2012, 4, 1, 0, 0): 2795, datetime.datetime(2013, 2, 1, 0, 0): 2375, datetime.datetime(2013, 8, 1, 0, 0): 2859, datetime.datetime(2013, 3, 1, 0, 0): 2862, datetime.datetime(2012, 7, 1, 0, 0): 3026, datetime.datetime(2014, 6, 1, 0, 0): 2931, datetime.datetime(2014, 2, 1, 0, 0): 2361}\n"
     ]
    }
   ],
   "source": [
    "date_counts = {}\n",
    "for date in dates:\n",
    "    if date in date_counts:\n",
    "        date_counts[date] += 1\n",
    "    else:\n",
    "        date_counts[date] = 1\n",
    "print(date_counts)"
   ]
  },
  {
   "cell_type": "code",
   "execution_count": 109,
   "metadata": {
    "collapsed": false
   },
   "outputs": [
    {
     "name": "stdout",
     "output_type": "stream",
     "text": [
      "{'F': 14449, 'M': 86349}\n"
     ]
    }
   ],
   "source": [
    "sexes = [row[5] for row in data]\n",
    "sex_counts = {}\n",
    "for sex in sexes:\n",
    "    if sex in sex_counts:\n",
    "        sex_counts[sex] += 1\n",
    "    else:\n",
    "        sex_counts[sex] = 1\n",
    "print(sex_counts)"
   ]
  },
  {
   "cell_type": "code",
   "execution_count": 110,
   "metadata": {
    "collapsed": false
   },
   "outputs": [
    {
     "name": "stdout",
     "output_type": "stream",
     "text": [
      "{'Asian/Pacific Islander': 1326, 'Native American/Native Alaskan': 917, 'Hispanic': 9022, 'White': 66237, 'Black': 23296}\n"
     ]
    }
   ],
   "source": [
    "races = [row[7] for row in data]\n",
    "race_counts = {}\n",
    "for race in races:\n",
    "    if race in race_counts:\n",
    "        race_counts[race] += 1\n",
    "    else:\n",
    "        race_counts[race] = 1\n",
    "print(race_counts)"
   ]
  },
  {
   "cell_type": "code",
   "execution_count": 111,
   "metadata": {
    "collapsed": false
   },
   "outputs": [
    {
     "name": "stdout",
     "output_type": "stream",
     "text": [
      "[['Id', 'Year', 'Id', 'Sex', 'Id', 'Hispanic Origin', 'Id', 'Id2', 'Geography', 'Total', 'Race Alone - White', 'Race Alone - Hispanic', 'Race Alone - Black or African American', 'Race Alone - American Indian and Alaska Native', 'Race Alone - Asian', 'Race Alone - Native Hawaiian and Other Pacific Islander', 'Two or More Races'], ['cen42010', 'April 1, 2010 Census', 'totsex', 'Both Sexes', 'tothisp', 'Total', '0100000US', '', 'United States', '308745538', '197318956', '44618105', '40250635', '3739506', '15159516', '674625', '6984195']]\n"
     ]
    }
   ],
   "source": [
    "f_new = open('census.csv')\n",
    "csvreader_new = csv.reader(f_new)\n",
    "census= list(csvreader_new)\n",
    "print(census)\n"
   ]
  },
  {
   "cell_type": "code",
   "execution_count": 112,
   "metadata": {
    "collapsed": false,
    "scrolled": true
   },
   "outputs": [
    {
     "name": "stdout",
     "output_type": "stream",
     "text": [
      "{'Asian/Pacific Islander': 8.374309664161762, 'Native American/Native Alaskan': 24.521955573811088, 'Hispanic': 20.220491210910907, 'White': 33.56849303419181, 'Black': 57.8773477735196}\n"
     ]
    }
   ],
   "source": [
    "race_per_hundrek = {}\n",
    "for k, v in race_counts.items():\n",
    "    race_per_hundrek[k] = (v / mapping[k]) * 100000\n",
    "print(race_per_hundrek)"
   ]
  },
  {
   "cell_type": "code",
   "execution_count": 113,
   "metadata": {
    "collapsed": false
   },
   "outputs": [
    {
     "name": "stdout",
     "output_type": "stream",
     "text": [
      "{'Asian/Pacific Islander': 559, 'Native American/Native Alaskan': 326, 'Hispanic': 5634, 'White': 9147, 'Black': 19510}\n"
     ]
    }
   ],
   "source": [
    "intents = [row[3] for row in data]\n",
    "races = [row[7] for row in data]\n",
    "homicide_race_counts =  {}\n",
    "\n",
    "for i, race in enumerate(races):\n",
    "    if intents[i] == 'Homicide':\n",
    "        homicide_race_counts[race] += 1\n",
    "    if race not in homicide_race_counts:\n",
    "        homicide_race_counts[race] = 0\n",
    "print(homicide_race_counts)"
   ]
  },
  {
   "cell_type": "code",
   "execution_count": 114,
   "metadata": {
    "collapsed": false
   },
   "outputs": [
    {
     "name": "stdout",
     "output_type": "stream",
     "text": [
      "{'Asian/Pacific Islander': 3.530346230970155, 'Native American/Native Alaskan': 8.717729026240365, 'Hispanic': 12.627161104219914, 'White': 4.6356417981453335, 'Black': 48.471284987180944}\n"
     ]
    }
   ],
   "source": [
    "race_per_hundrek = {}\n",
    "for k, v in homicide_race_counts.items():\n",
    "    race_per_hundrek[k] = (v / mapping[k]) * 100000\n",
    "print(race_per_hundrek)"
   ]
  }
 ],
 "metadata": {
  "kernelspec": {
   "display_name": "Python 3",
   "language": "python",
   "name": "python3"
  },
  "language_info": {
   "codemirror_mode": {
    "name": "ipython",
    "version": 3
   },
   "file_extension": ".py",
   "mimetype": "text/x-python",
   "name": "python",
   "nbconvert_exporter": "python",
   "pygments_lexer": "ipython3",
   "version": "3.4.3"
  }
 },
 "nbformat": 4,
 "nbformat_minor": 0
}
